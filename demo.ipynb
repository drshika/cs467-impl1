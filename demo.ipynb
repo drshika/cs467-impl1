{
  "cells": [
    {
      "cell_type": "raw",
      "metadata": {},
      "source": [
        "---\n",
        "title: Quarto Basics\n",
        "format:\n",
        "  html:\n",
        "    code-fold: true\n",
        "---"
      ],
      "id": "bace87ae"
    },
    {
      "cell_type": "markdown",
      "metadata": {},
      "source": [
        "For a demonstration of a line plot on a polar axis, see @fig-polar.\n"
      ],
      "id": "69fb38fe"
    },
    {
      "cell_type": "code",
      "metadata": {},
      "source": [
        "#| label: fig-polar\n",
        "#| fig-cap: A line plot on a polar axis\n",
        "\n",
        "import numpy as np\n",
        "import matplotlib.pyplot as plt\n",
        "\n",
        "r = np.arange(0, 2, 0.01)\n",
        "theta = 2 * np.pi * r\n",
        "fig, ax = plt.subplots(\n",
        "  subplot_kw = {'projection': 'polar'} \n",
        ")\n",
        "ax.plot(theta, r)\n",
        "ax.set_rticks([0.5, 1, 1.5, 2])\n",
        "ax.grid(True)\n",
        "plt.show()"
      ],
      "id": "fig-polar",
      "execution_count": null,
      "outputs": []
    },
    {
      "cell_type": "code",
      "metadata": {},
      "source": [
        "import pandas as pd\n",
        "import matplotlib.pyplot as plt \n",
        "from wordcloud import WordCloud\n",
        "\n",
        "data = pd.read_csv(\"cleaned_dataset.csv\")\n",
        "data.groupby(\"verdict\").count()\n",
        "\n",
        "nta_data = data[data[\"verdict\"] == \"nta\"]\n",
        "nta_data = nta_data[\"text\"]"
      ],
      "id": "2b3b5155",
      "execution_count": null,
      "outputs": []
    },
    {
      "cell_type": "code",
      "metadata": {},
      "source": [
        "wordcloud = WordCloud(background_color=\"black\",width=1600, height=800).generate(' '.join(nta_data.tolist()))"
      ],
      "id": "8dd5a28d",
      "execution_count": null,
      "outputs": []
    },
    {
      "cell_type": "code",
      "metadata": {},
      "source": [
        "plt.figure( figsize=(20,10), facecolor='k')\n",
        "plt.imshow(wordcloud)"
      ],
      "id": "5ec9f8b5",
      "execution_count": null,
      "outputs": []
    }
  ],
  "metadata": {
    "kernelspec": {
      "name": "python3",
      "language": "python",
      "display_name": "Python 3 (ipykernel)"
    }
  },
  "nbformat": 4,
  "nbformat_minor": 5
}